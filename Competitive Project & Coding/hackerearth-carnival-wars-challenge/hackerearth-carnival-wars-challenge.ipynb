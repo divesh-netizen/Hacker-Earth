{
 "cells": [
  {
   "cell_type": "code",
   "execution_count": 1,
   "metadata": {},
   "outputs": [],
   "source": [
    "import numpy as np\n",
    "import pandas as pd"
   ]
  },
  {
   "cell_type": "markdown",
   "metadata": {},
   "source": [
    "### checking the data "
   ]
  },
  {
   "cell_type": "code",
   "execution_count": 2,
   "metadata": {},
   "outputs": [
    {
     "data": {
      "text/html": [
       "<div>\n",
       "<style scoped>\n",
       "    .dataframe tbody tr th:only-of-type {\n",
       "        vertical-align: middle;\n",
       "    }\n",
       "\n",
       "    .dataframe tbody tr th {\n",
       "        vertical-align: top;\n",
       "    }\n",
       "\n",
       "    .dataframe thead th {\n",
       "        text-align: right;\n",
       "    }\n",
       "</style>\n",
       "<table border=\"1\" class=\"dataframe\">\n",
       "  <thead>\n",
       "    <tr style=\"text-align: right;\">\n",
       "      <th></th>\n",
       "      <th>Product_id</th>\n",
       "      <th>Stall_no</th>\n",
       "      <th>instock_date</th>\n",
       "      <th>Market_Category</th>\n",
       "      <th>Customer_name</th>\n",
       "      <th>Loyalty_customer</th>\n",
       "      <th>Product_Category</th>\n",
       "      <th>Grade</th>\n",
       "      <th>Demand</th>\n",
       "      <th>Discount_avail</th>\n",
       "      <th>charges_1</th>\n",
       "      <th>charges_2 (%)</th>\n",
       "      <th>Minimum_price</th>\n",
       "      <th>Maximum_price</th>\n",
       "      <th>Selling_Price</th>\n",
       "    </tr>\n",
       "  </thead>\n",
       "  <tbody>\n",
       "    <tr>\n",
       "      <th>0</th>\n",
       "      <td>BRAE2NF6JA5GUEXG</td>\n",
       "      <td>37.0</td>\n",
       "      <td>2015-08-22 18:36:12.000</td>\n",
       "      <td>2</td>\n",
       "      <td>Lillyann</td>\n",
       "      <td>Yes</td>\n",
       "      <td>Fashion</td>\n",
       "      <td>1</td>\n",
       "      <td>68</td>\n",
       "      <td>0.0</td>\n",
       "      <td>376.0</td>\n",
       "      <td>11.0</td>\n",
       "      <td>2983.0</td>\n",
       "      <td>4713.0</td>\n",
       "      <td>4185.947700</td>\n",
       "    </tr>\n",
       "    <tr>\n",
       "      <th>1</th>\n",
       "      <td>TUNE8SFB6RJN2HSD</td>\n",
       "      <td>38.0</td>\n",
       "      <td>2016-03-27 21:19:13.000</td>\n",
       "      <td>24</td>\n",
       "      <td>Klynn</td>\n",
       "      <td>Yes</td>\n",
       "      <td>Fashion</td>\n",
       "      <td>0</td>\n",
       "      <td>51</td>\n",
       "      <td>0.0</td>\n",
       "      <td>397.0</td>\n",
       "      <td>12.0</td>\n",
       "      <td>7495.0</td>\n",
       "      <td>10352.0</td>\n",
       "      <td>9271.490256</td>\n",
       "    </tr>\n",
       "    <tr>\n",
       "      <th>2</th>\n",
       "      <td>BRAEAR7WZPQGPBZU</td>\n",
       "      <td>9.0</td>\n",
       "      <td>2015-08-18 19:25:22.000</td>\n",
       "      <td>447</td>\n",
       "      <td>Ridge</td>\n",
       "      <td>Yes</td>\n",
       "      <td>Child_care</td>\n",
       "      <td>0</td>\n",
       "      <td>10</td>\n",
       "      <td>0.0</td>\n",
       "      <td>250.0</td>\n",
       "      <td>9.0</td>\n",
       "      <td>5752.0</td>\n",
       "      <td>7309.0</td>\n",
       "      <td>6785.701362</td>\n",
       "    </tr>\n",
       "    <tr>\n",
       "      <th>3</th>\n",
       "      <td>WATDZ2ZQ8JPDHCTJ</td>\n",
       "      <td>50.0</td>\n",
       "      <td>2016-03-28 21:53:01.000</td>\n",
       "      <td>23</td>\n",
       "      <td>Abran</td>\n",
       "      <td>Yes</td>\n",
       "      <td>Educational</td>\n",
       "      <td>2</td>\n",
       "      <td>48</td>\n",
       "      <td>0.0</td>\n",
       "      <td>144.0</td>\n",
       "      <td>13.0</td>\n",
       "      <td>5090.0</td>\n",
       "      <td>20814.0</td>\n",
       "      <td>13028.917824</td>\n",
       "    </tr>\n",
       "    <tr>\n",
       "      <th>4</th>\n",
       "      <td>JWSEBUKYQPMBZ3RK</td>\n",
       "      <td>7.0</td>\n",
       "      <td>2016-03-29 22:58:53.000</td>\n",
       "      <td>63</td>\n",
       "      <td>Dustyn</td>\n",
       "      <td>Yes</td>\n",
       "      <td>Repair</td>\n",
       "      <td>1</td>\n",
       "      <td>35</td>\n",
       "      <td>1.0</td>\n",
       "      <td>211.0</td>\n",
       "      <td>4.0</td>\n",
       "      <td>2430.0</td>\n",
       "      <td>9261.0</td>\n",
       "      <td>906.553935</td>\n",
       "    </tr>\n",
       "    <tr>\n",
       "      <th>...</th>\n",
       "      <td>...</td>\n",
       "      <td>...</td>\n",
       "      <td>...</td>\n",
       "      <td>...</td>\n",
       "      <td>...</td>\n",
       "      <td>...</td>\n",
       "      <td>...</td>\n",
       "      <td>...</td>\n",
       "      <td>...</td>\n",
       "      <td>...</td>\n",
       "      <td>...</td>\n",
       "      <td>...</td>\n",
       "      <td>...</td>\n",
       "      <td>...</td>\n",
       "      <td>...</td>\n",
       "    </tr>\n",
       "    <tr>\n",
       "      <th>6362</th>\n",
       "      <td>MUGE8DAUYGPWG9AE</td>\n",
       "      <td>17.0</td>\n",
       "      <td>2015-09-23 14:21:09.000</td>\n",
       "      <td>358</td>\n",
       "      <td>Roxanna</td>\n",
       "      <td>Yes</td>\n",
       "      <td>Educational</td>\n",
       "      <td>3</td>\n",
       "      <td>7</td>\n",
       "      <td>0.0</td>\n",
       "      <td>144.0</td>\n",
       "      <td>9.0</td>\n",
       "      <td>487.0</td>\n",
       "      <td>855.0</td>\n",
       "      <td>NaN</td>\n",
       "    </tr>\n",
       "    <tr>\n",
       "      <th>6363</th>\n",
       "      <td>WATE7VE2D62VEKW8</td>\n",
       "      <td>17.0</td>\n",
       "      <td>2016-03-28 19:55:43.000</td>\n",
       "      <td>24</td>\n",
       "      <td>Marquell</td>\n",
       "      <td>Yes</td>\n",
       "      <td>Technology</td>\n",
       "      <td>0</td>\n",
       "      <td>47</td>\n",
       "      <td>0.0</td>\n",
       "      <td>614.0</td>\n",
       "      <td>10.0</td>\n",
       "      <td>8174.0</td>\n",
       "      <td>11266.0</td>\n",
       "      <td>10277.520192</td>\n",
       "    </tr>\n",
       "    <tr>\n",
       "      <th>6364</th>\n",
       "      <td>SHOEF9G8Z4ZXF6WE</td>\n",
       "      <td>21.0</td>\n",
       "      <td>2015-02-11 15:09:26.000</td>\n",
       "      <td>55</td>\n",
       "      <td>Theodore</td>\n",
       "      <td>Yes</td>\n",
       "      <td>Child_care</td>\n",
       "      <td>0</td>\n",
       "      <td>35</td>\n",
       "      <td>0.0</td>\n",
       "      <td>269.0</td>\n",
       "      <td>5.0</td>\n",
       "      <td>3564.0</td>\n",
       "      <td>4920.0</td>\n",
       "      <td>4501.837200</td>\n",
       "    </tr>\n",
       "    <tr>\n",
       "      <th>6365</th>\n",
       "      <td>PBXEB9ZQ7HHCFXYG</td>\n",
       "      <td>36.0</td>\n",
       "      <td>2015-11-19 17:29:21.000</td>\n",
       "      <td>358</td>\n",
       "      <td>Galen</td>\n",
       "      <td>No</td>\n",
       "      <td>Repair</td>\n",
       "      <td>3</td>\n",
       "      <td>29</td>\n",
       "      <td>0.0</td>\n",
       "      <td>283.0</td>\n",
       "      <td>3.0</td>\n",
       "      <td>5303.0</td>\n",
       "      <td>14614.0</td>\n",
       "      <td>10218.878775</td>\n",
       "    </tr>\n",
       "    <tr>\n",
       "      <th>6366</th>\n",
       "      <td>NKCEAGXHRYTNTMG7</td>\n",
       "      <td>27.0</td>\n",
       "      <td>2015-12-08 04:19:33.000</td>\n",
       "      <td>452</td>\n",
       "      <td>Posey</td>\n",
       "      <td>Yes</td>\n",
       "      <td>Repair</td>\n",
       "      <td>0</td>\n",
       "      <td>8</td>\n",
       "      <td>0.0</td>\n",
       "      <td>267.0</td>\n",
       "      <td>3.0</td>\n",
       "      <td>4334.0</td>\n",
       "      <td>5849.0</td>\n",
       "      <td>5359.493997</td>\n",
       "    </tr>\n",
       "  </tbody>\n",
       "</table>\n",
       "<p>6367 rows × 15 columns</p>\n",
       "</div>"
      ],
      "text/plain": [
       "            Product_id  Stall_no             instock_date  Market_Category  \\\n",
       "0     BRAE2NF6JA5GUEXG      37.0  2015-08-22 18:36:12.000                2   \n",
       "1     TUNE8SFB6RJN2HSD      38.0  2016-03-27 21:19:13.000               24   \n",
       "2     BRAEAR7WZPQGPBZU       9.0  2015-08-18 19:25:22.000              447   \n",
       "3     WATDZ2ZQ8JPDHCTJ      50.0  2016-03-28 21:53:01.000               23   \n",
       "4     JWSEBUKYQPMBZ3RK       7.0  2016-03-29 22:58:53.000               63   \n",
       "...                ...       ...                      ...              ...   \n",
       "6362  MUGE8DAUYGPWG9AE      17.0  2015-09-23 14:21:09.000              358   \n",
       "6363  WATE7VE2D62VEKW8      17.0  2016-03-28 19:55:43.000               24   \n",
       "6364  SHOEF9G8Z4ZXF6WE      21.0  2015-02-11 15:09:26.000               55   \n",
       "6365  PBXEB9ZQ7HHCFXYG      36.0  2015-11-19 17:29:21.000              358   \n",
       "6366  NKCEAGXHRYTNTMG7      27.0  2015-12-08 04:19:33.000              452   \n",
       "\n",
       "     Customer_name Loyalty_customer Product_Category  Grade  Demand  \\\n",
       "0         Lillyann              Yes          Fashion      1      68   \n",
       "1            Klynn              Yes          Fashion      0      51   \n",
       "2            Ridge              Yes       Child_care      0      10   \n",
       "3            Abran              Yes      Educational      2      48   \n",
       "4           Dustyn              Yes           Repair      1      35   \n",
       "...            ...              ...              ...    ...     ...   \n",
       "6362       Roxanna              Yes      Educational      3       7   \n",
       "6363      Marquell              Yes       Technology      0      47   \n",
       "6364      Theodore              Yes       Child_care      0      35   \n",
       "6365         Galen              No            Repair      3      29   \n",
       "6366         Posey              Yes           Repair      0       8   \n",
       "\n",
       "      Discount_avail  charges_1  charges_2 (%)  Minimum_price  Maximum_price  \\\n",
       "0                0.0      376.0           11.0         2983.0         4713.0   \n",
       "1                0.0      397.0           12.0         7495.0        10352.0   \n",
       "2                0.0      250.0            9.0         5752.0         7309.0   \n",
       "3                0.0      144.0           13.0         5090.0        20814.0   \n",
       "4                1.0      211.0            4.0         2430.0         9261.0   \n",
       "...              ...        ...            ...            ...            ...   \n",
       "6362             0.0      144.0            9.0          487.0          855.0   \n",
       "6363             0.0      614.0           10.0         8174.0        11266.0   \n",
       "6364             0.0      269.0            5.0         3564.0         4920.0   \n",
       "6365             0.0      283.0            3.0         5303.0        14614.0   \n",
       "6366             0.0      267.0            3.0         4334.0         5849.0   \n",
       "\n",
       "      Selling_Price  \n",
       "0       4185.947700  \n",
       "1       9271.490256  \n",
       "2       6785.701362  \n",
       "3      13028.917824  \n",
       "4        906.553935  \n",
       "...             ...  \n",
       "6362            NaN  \n",
       "6363   10277.520192  \n",
       "6364    4501.837200  \n",
       "6365   10218.878775  \n",
       "6366    5359.493997  \n",
       "\n",
       "[6367 rows x 15 columns]"
      ]
     },
     "execution_count": 2,
     "metadata": {},
     "output_type": "execute_result"
    }
   ],
   "source": [
    "train = pd.read_csv('train.csv')\n",
    "train.head(6367)"
   ]
  },
  {
   "cell_type": "code",
   "execution_count": 3,
   "metadata": {},
   "outputs": [
    {
     "data": {
      "text/html": [
       "<div>\n",
       "<style scoped>\n",
       "    .dataframe tbody tr th:only-of-type {\n",
       "        vertical-align: middle;\n",
       "    }\n",
       "\n",
       "    .dataframe tbody tr th {\n",
       "        vertical-align: top;\n",
       "    }\n",
       "\n",
       "    .dataframe thead th {\n",
       "        text-align: right;\n",
       "    }\n",
       "</style>\n",
       "<table border=\"1\" class=\"dataframe\">\n",
       "  <thead>\n",
       "    <tr style=\"text-align: right;\">\n",
       "      <th></th>\n",
       "      <th>Product_id</th>\n",
       "      <th>Stall_no</th>\n",
       "      <th>instock_date</th>\n",
       "      <th>Market_Category</th>\n",
       "      <th>Customer_name</th>\n",
       "      <th>Loyalty_customer</th>\n",
       "      <th>Product_Category</th>\n",
       "      <th>Grade</th>\n",
       "      <th>Demand</th>\n",
       "      <th>Discount_avail</th>\n",
       "      <th>charges_1</th>\n",
       "      <th>charges_2 (%)</th>\n",
       "      <th>Minimum_price</th>\n",
       "      <th>Maximum_price</th>\n",
       "    </tr>\n",
       "  </thead>\n",
       "  <tbody>\n",
       "    <tr>\n",
       "      <th>0</th>\n",
       "      <td>SCHE4YSTDVPVZVXW</td>\n",
       "      <td>39.0</td>\n",
       "      <td>2016-01-13 07:45:08.000</td>\n",
       "      <td>205</td>\n",
       "      <td>Ivanka</td>\n",
       "      <td>No</td>\n",
       "      <td>Fashion</td>\n",
       "      <td>0</td>\n",
       "      <td>90</td>\n",
       "      <td>0</td>\n",
       "      <td>380.0</td>\n",
       "      <td>16.0</td>\n",
       "      <td>2576.0</td>\n",
       "      <td>3340</td>\n",
       "    </tr>\n",
       "    <tr>\n",
       "      <th>1</th>\n",
       "      <td>ACCEGCATKHNRXUHW</td>\n",
       "      <td>49.0</td>\n",
       "      <td>2015-08-23 20:37:05.000</td>\n",
       "      <td>3</td>\n",
       "      <td>Isaak</td>\n",
       "      <td>Yes</td>\n",
       "      <td>Fashion</td>\n",
       "      <td>0</td>\n",
       "      <td>87</td>\n",
       "      <td>0</td>\n",
       "      <td>393.0</td>\n",
       "      <td>16.0</td>\n",
       "      <td>1202.0</td>\n",
       "      <td>1955</td>\n",
       "    </tr>\n",
       "    <tr>\n",
       "      <th>2</th>\n",
       "      <td>NKCE6GJ5XVJDXNNZ</td>\n",
       "      <td>1.0</td>\n",
       "      <td>2015-11-14 18:12:39.000</td>\n",
       "      <td>183</td>\n",
       "      <td>Analiese</td>\n",
       "      <td>No</td>\n",
       "      <td>Technology</td>\n",
       "      <td>2</td>\n",
       "      <td>55</td>\n",
       "      <td>0</td>\n",
       "      <td>493.0</td>\n",
       "      <td>9.0</td>\n",
       "      <td>7175.0</td>\n",
       "      <td>15715</td>\n",
       "    </tr>\n",
       "    <tr>\n",
       "      <th>3</th>\n",
       "      <td>NKCEB8BK3ZXDHDHM</td>\n",
       "      <td>8.0</td>\n",
       "      <td>2015-11-21 04:56:19.000</td>\n",
       "      <td>358</td>\n",
       "      <td>Rusty</td>\n",
       "      <td>Yes</td>\n",
       "      <td>Child_care</td>\n",
       "      <td>3</td>\n",
       "      <td>86</td>\n",
       "      <td>0</td>\n",
       "      <td>303.0</td>\n",
       "      <td>16.0</td>\n",
       "      <td>5404.0</td>\n",
       "      <td>13078</td>\n",
       "    </tr>\n",
       "    <tr>\n",
       "      <th>4</th>\n",
       "      <td>TOPEFDXSAHRNPF94</td>\n",
       "      <td>33.0</td>\n",
       "      <td>2015-05-06 15:09:46.000</td>\n",
       "      <td>167</td>\n",
       "      <td>Eloise</td>\n",
       "      <td>No</td>\n",
       "      <td>Technology</td>\n",
       "      <td>0</td>\n",
       "      <td>27</td>\n",
       "      <td>0</td>\n",
       "      <td>567.0</td>\n",
       "      <td>16.0</td>\n",
       "      <td>4069.0</td>\n",
       "      <td>6244</td>\n",
       "    </tr>\n",
       "  </tbody>\n",
       "</table>\n",
       "</div>"
      ],
      "text/plain": [
       "         Product_id  Stall_no             instock_date  Market_Category  \\\n",
       "0  SCHE4YSTDVPVZVXW      39.0  2016-01-13 07:45:08.000              205   \n",
       "1  ACCEGCATKHNRXUHW      49.0  2015-08-23 20:37:05.000                3   \n",
       "2  NKCE6GJ5XVJDXNNZ       1.0  2015-11-14 18:12:39.000              183   \n",
       "3  NKCEB8BK3ZXDHDHM       8.0  2015-11-21 04:56:19.000              358   \n",
       "4  TOPEFDXSAHRNPF94      33.0  2015-05-06 15:09:46.000              167   \n",
       "\n",
       "  Customer_name Loyalty_customer Product_Category  Grade  Demand  \\\n",
       "0        Ivanka              No           Fashion      0      90   \n",
       "1         Isaak              Yes          Fashion      0      87   \n",
       "2      Analiese              No        Technology      2      55   \n",
       "3         Rusty              Yes       Child_care      3      86   \n",
       "4        Eloise              No        Technology      0      27   \n",
       "\n",
       "   Discount_avail  charges_1  charges_2 (%)  Minimum_price  Maximum_price  \n",
       "0               0      380.0           16.0         2576.0           3340  \n",
       "1               0      393.0           16.0         1202.0           1955  \n",
       "2               0      493.0            9.0         7175.0          15715  \n",
       "3               0      303.0           16.0         5404.0          13078  \n",
       "4               0      567.0           16.0         4069.0           6244  "
      ]
     },
     "execution_count": 3,
     "metadata": {},
     "output_type": "execute_result"
    }
   ],
   "source": [
    "test = pd.read_csv('test.csv')\n",
    "test.head()"
   ]
  },
  {
   "cell_type": "code",
   "execution_count": 4,
   "metadata": {},
   "outputs": [
    {
     "name": "stdout",
     "output_type": "stream",
     "text": [
      "train dataset shape : (6368, 15)\n"
     ]
    }
   ],
   "source": [
    "# shape of training data\n",
    "print(f\"train dataset shape : {train.shape}\")"
   ]
  },
  {
   "cell_type": "code",
   "execution_count": 5,
   "metadata": {},
   "outputs": [
    {
     "name": "stdout",
     "output_type": "stream",
     "text": [
      "test dataset shape : (3430, 14)\n"
     ]
    }
   ],
   "source": [
    "# shape of test data\n",
    "print(f\"test dataset shape : {test.shape}\")"
   ]
  },
  {
   "cell_type": "code",
   "execution_count": 6,
   "metadata": {},
   "outputs": [
    {
     "name": "stdout",
     "output_type": "stream",
     "text": [
      "Index(['Product_id', 'Stall_no', 'instock_date', 'Market_Category',\n",
      "       'Customer_name', 'Loyalty_customer', 'Product_Category', 'Grade',\n",
      "       'Demand', 'Discount_avail', 'charges_1', 'charges_2 (%)',\n",
      "       'Minimum_price', 'Maximum_price', 'Selling_Price'],\n",
      "      dtype='object')\n"
     ]
    }
   ],
   "source": [
    "print(train.columns)"
   ]
  },
  {
   "cell_type": "code",
   "execution_count": 7,
   "metadata": {},
   "outputs": [
    {
     "data": {
      "text/plain": [
       "dtype('O')"
      ]
     },
     "execution_count": 7,
     "metadata": {},
     "output_type": "execute_result"
    }
   ],
   "source": [
    "train.columns.dtype"
   ]
  },
  {
   "cell_type": "code",
   "execution_count": 8,
   "metadata": {},
   "outputs": [
    {
     "name": "stdout",
     "output_type": "stream",
     "text": [
      "<class 'pandas.core.frame.DataFrame'>\n",
      "RangeIndex: 6368 entries, 0 to 6367\n",
      "Data columns (total 15 columns):\n",
      " #   Column            Non-Null Count  Dtype  \n",
      "---  ------            --------------  -----  \n",
      " 0   Product_id        6368 non-null   object \n",
      " 1   Stall_no          6363 non-null   float64\n",
      " 2   instock_date      6368 non-null   object \n",
      " 3   Market_Category   6368 non-null   int64  \n",
      " 4   Customer_name     6157 non-null   object \n",
      " 5   Loyalty_customer  6368 non-null   object \n",
      " 6   Product_Category  6368 non-null   object \n",
      " 7   Grade             6368 non-null   int64  \n",
      " 8   Demand            6368 non-null   int64  \n",
      " 9   Discount_avail    6330 non-null   float64\n",
      " 10  charges_1         6170 non-null   float64\n",
      " 11  charges_2 (%)     6163 non-null   float64\n",
      " 12  Minimum_price     6330 non-null   float64\n",
      " 13  Maximum_price     6025 non-null   float64\n",
      " 14  Selling_Price     6327 non-null   float64\n",
      "dtypes: float64(7), int64(3), object(5)\n",
      "memory usage: 746.4+ KB\n"
     ]
    }
   ],
   "source": [
    "#Lets checkout the dataypes of the data\n",
    "train.info()"
   ]
  },
  {
   "cell_type": "markdown",
   "metadata": {},
   "source": [
    "#### as we can see that many values are null so we have to handle that and replace that with the avg of their respective value or remove them."
   ]
  },
  {
   "cell_type": "code",
   "execution_count": 9,
   "metadata": {},
   "outputs": [
    {
     "data": {
      "text/html": [
       "<div>\n",
       "<style scoped>\n",
       "    .dataframe tbody tr th:only-of-type {\n",
       "        vertical-align: middle;\n",
       "    }\n",
       "\n",
       "    .dataframe tbody tr th {\n",
       "        vertical-align: top;\n",
       "    }\n",
       "\n",
       "    .dataframe thead th {\n",
       "        text-align: right;\n",
       "    }\n",
       "</style>\n",
       "<table border=\"1\" class=\"dataframe\">\n",
       "  <thead>\n",
       "    <tr style=\"text-align: right;\">\n",
       "      <th></th>\n",
       "      <th>Stall_no</th>\n",
       "      <th>Market_Category</th>\n",
       "      <th>Grade</th>\n",
       "      <th>Demand</th>\n",
       "      <th>Discount_avail</th>\n",
       "      <th>charges_1</th>\n",
       "      <th>charges_2 (%)</th>\n",
       "      <th>Minimum_price</th>\n",
       "      <th>Maximum_price</th>\n",
       "      <th>Selling_Price</th>\n",
       "    </tr>\n",
       "  </thead>\n",
       "  <tbody>\n",
       "    <tr>\n",
       "      <th>count</th>\n",
       "      <td>6363.000000</td>\n",
       "      <td>6368.000000</td>\n",
       "      <td>6368.000000</td>\n",
       "      <td>6368.000000</td>\n",
       "      <td>6330.000000</td>\n",
       "      <td>6170.000000</td>\n",
       "      <td>6163.000000</td>\n",
       "      <td>6330.000000</td>\n",
       "      <td>6025.000000</td>\n",
       "      <td>6327.000000</td>\n",
       "    </tr>\n",
       "    <tr>\n",
       "      <th>mean</th>\n",
       "      <td>25.309445</td>\n",
       "      <td>199.340609</td>\n",
       "      <td>0.643687</td>\n",
       "      <td>50.921168</td>\n",
       "      <td>0.140442</td>\n",
       "      <td>264.514100</td>\n",
       "      <td>10.146195</td>\n",
       "      <td>3531.349763</td>\n",
       "      <td>6432.545892</td>\n",
       "      <td>4563.242592</td>\n",
       "    </tr>\n",
       "    <tr>\n",
       "      <th>std</th>\n",
       "      <td>14.328980</td>\n",
       "      <td>170.275570</td>\n",
       "      <td>1.025092</td>\n",
       "      <td>29.091922</td>\n",
       "      <td>0.347473</td>\n",
       "      <td>124.483056</td>\n",
       "      <td>4.318339</td>\n",
       "      <td>2194.729604</td>\n",
       "      <td>3716.177364</td>\n",
       "      <td>2979.102408</td>\n",
       "    </tr>\n",
       "    <tr>\n",
       "      <th>min</th>\n",
       "      <td>1.000000</td>\n",
       "      <td>0.000000</td>\n",
       "      <td>0.000000</td>\n",
       "      <td>1.000000</td>\n",
       "      <td>0.000000</td>\n",
       "      <td>100.000000</td>\n",
       "      <td>1.000000</td>\n",
       "      <td>1.000000</td>\n",
       "      <td>404.000000</td>\n",
       "      <td>-6062.470000</td>\n",
       "    </tr>\n",
       "    <tr>\n",
       "      <th>25%</th>\n",
       "      <td>13.000000</td>\n",
       "      <td>55.000000</td>\n",
       "      <td>0.000000</td>\n",
       "      <td>26.000000</td>\n",
       "      <td>0.000000</td>\n",
       "      <td>163.000000</td>\n",
       "      <td>7.000000</td>\n",
       "      <td>1879.250000</td>\n",
       "      <td>3918.000000</td>\n",
       "      <td>2450.005280</td>\n",
       "    </tr>\n",
       "    <tr>\n",
       "      <th>50%</th>\n",
       "      <td>25.000000</td>\n",
       "      <td>132.000000</td>\n",
       "      <td>0.000000</td>\n",
       "      <td>51.000000</td>\n",
       "      <td>0.000000</td>\n",
       "      <td>252.000000</td>\n",
       "      <td>10.000000</td>\n",
       "      <td>3157.500000</td>\n",
       "      <td>5634.000000</td>\n",
       "      <td>4210.384640</td>\n",
       "    </tr>\n",
       "    <tr>\n",
       "      <th>75%</th>\n",
       "      <td>37.000000</td>\n",
       "      <td>403.000000</td>\n",
       "      <td>2.000000</td>\n",
       "      <td>76.000000</td>\n",
       "      <td>0.000000</td>\n",
       "      <td>314.000000</td>\n",
       "      <td>14.000000</td>\n",
       "      <td>4697.000000</td>\n",
       "      <td>8126.000000</td>\n",
       "      <td>6167.643252</td>\n",
       "    </tr>\n",
       "    <tr>\n",
       "      <th>max</th>\n",
       "      <td>50.000000</td>\n",
       "      <td>471.000000</td>\n",
       "      <td>3.000000</td>\n",
       "      <td>100.000000</td>\n",
       "      <td>1.000000</td>\n",
       "      <td>649.000000</td>\n",
       "      <td>17.000000</td>\n",
       "      <td>17580.000000</td>\n",
       "      <td>58812.000000</td>\n",
       "      <td>22638.325941</td>\n",
       "    </tr>\n",
       "  </tbody>\n",
       "</table>\n",
       "</div>"
      ],
      "text/plain": [
       "          Stall_no  Market_Category        Grade       Demand  Discount_avail  \\\n",
       "count  6363.000000      6368.000000  6368.000000  6368.000000     6330.000000   \n",
       "mean     25.309445       199.340609     0.643687    50.921168        0.140442   \n",
       "std      14.328980       170.275570     1.025092    29.091922        0.347473   \n",
       "min       1.000000         0.000000     0.000000     1.000000        0.000000   \n",
       "25%      13.000000        55.000000     0.000000    26.000000        0.000000   \n",
       "50%      25.000000       132.000000     0.000000    51.000000        0.000000   \n",
       "75%      37.000000       403.000000     2.000000    76.000000        0.000000   \n",
       "max      50.000000       471.000000     3.000000   100.000000        1.000000   \n",
       "\n",
       "         charges_1  charges_2 (%)  Minimum_price  Maximum_price  Selling_Price  \n",
       "count  6170.000000    6163.000000    6330.000000    6025.000000    6327.000000  \n",
       "mean    264.514100      10.146195    3531.349763    6432.545892    4563.242592  \n",
       "std     124.483056       4.318339    2194.729604    3716.177364    2979.102408  \n",
       "min     100.000000       1.000000       1.000000     404.000000   -6062.470000  \n",
       "25%     163.000000       7.000000    1879.250000    3918.000000    2450.005280  \n",
       "50%     252.000000      10.000000    3157.500000    5634.000000    4210.384640  \n",
       "75%     314.000000      14.000000    4697.000000    8126.000000    6167.643252  \n",
       "max     649.000000      17.000000   17580.000000   58812.000000   22638.325941  "
      ]
     },
     "execution_count": 9,
     "metadata": {},
     "output_type": "execute_result"
    }
   ],
   "source": [
    "train.describe()"
   ]
  },
  {
   "cell_type": "code",
   "execution_count": 10,
   "metadata": {},
   "outputs": [],
   "source": [
    "train.drop(['Product_id','Customer_name'],axis=1,inplace=True)\n",
    "test.drop(['Product_id','Customer_name'],axis=1,inplace=True)"
   ]
  },
  {
   "cell_type": "code",
   "execution_count": 11,
   "metadata": {},
   "outputs": [],
   "source": [
    "from sklearn.preprocessing import LabelEncoder\n",
    "le=LabelEncoder()\n",
    "train['Loyalty_customer']=le.fit_transform(train['Loyalty_customer'])\n",
    "\n",
    "test['Loyalty_customer']=le.fit_transform(test['Loyalty_customer'])"
   ]
  },
  {
   "cell_type": "code",
   "execution_count": null,
   "metadata": {},
   "outputs": [],
   "source": []
  },
  {
   "cell_type": "code",
   "execution_count": 12,
   "metadata": {},
   "outputs": [
    {
     "name": "stdout",
     "output_type": "stream",
     "text": [
      "Train data-------------------------------------\n",
      " Stall_no column missing values: 5\n",
      " instock_date column missing values: 0\n",
      " Market_Category column missing values: 0\n",
      " Loyalty_customer column missing values: 0\n",
      " Product_Category column missing values: 0\n",
      " Grade column missing values: 0\n",
      " Demand column missing values: 0\n",
      " Discount_avail column missing values: 38\n",
      " charges_1 column missing values: 198\n",
      " charges_2 (%) column missing values: 205\n",
      " Minimum_price column missing values: 38\n",
      " Maximum_price column missing values: 343\n",
      " Selling_Price column missing values: 41\n",
      "\n",
      "\n",
      "Validation dataset--------------------------------------\n",
      " Stall_no column missing values: 1\n",
      " instock_date column missing values: 0\n",
      " Market_Category column missing values: 0\n",
      " Loyalty_customer column missing values: 0\n",
      " Product_Category column missing values: 0\n",
      " Grade column missing values: 0\n",
      " Demand column missing values: 0\n",
      " Discount_avail column missing values: 0\n",
      " charges_1 column missing values: 36\n",
      " charges_2 (%) column missing values: 5\n",
      " Minimum_price column missing values: 14\n",
      " Maximum_price column missing values: 0\n",
      "\n",
      "\n"
     ]
    }
   ],
   "source": [
    "#Function to show all the missing values of the dataset\n",
    "def showMissingValues(dataset):\n",
    "    for col in dataset.columns.tolist():          \n",
    "        print(f\" {col} column missing values: {dataset[col].isnull().sum()}\")\n",
    "    print('\\n')\n",
    "    \n",
    "\n",
    "print(\"Train data-------------------------------------\")\n",
    "showMissingValues(train)\n",
    "\n",
    "print(\"Validation dataset--------------------------------------\")\n",
    "showMissingValues(test)"
   ]
  },
  {
   "cell_type": "markdown",
   "metadata": {},
   "source": [
    "#### let fill the data at missing place."
   ]
  },
  {
   "cell_type": "code",
   "execution_count": 13,
   "metadata": {},
   "outputs": [],
   "source": [
    "# first for stall as there is less no of missing value so lets fill the median\n",
    "train['Stall_no'] = train['Stall_no'].fillna(train['Stall_no'].median())#Initaly mode\n",
    "test['Stall_no'] = test['Stall_no'].fillna(test['Stall_no'].median())"
   ]
  },
  {
   "cell_type": "code",
   "execution_count": 16,
   "metadata": {},
   "outputs": [],
   "source": [
    "# for this column we will impute these as mean.\n",
    "train['Discount_avail'] = train['Discount_avail'].fillna(train['Discount_avail'].mean())#Initaly mode\n",
    "test['Discount_avail'] = test['Discount_avail'].fillna(test['Discount_avail'].mean())\n"
   ]
  },
  {
   "cell_type": "code",
   "execution_count": 17,
   "metadata": {},
   "outputs": [],
   "source": [
    "import seaborn as sns\n",
    "import matplotlib.pyplot as plt\n",
    "\n"
   ]
  },
  {
   "cell_type": "code",
   "execution_count": 18,
   "metadata": {},
   "outputs": [
    {
     "data": {
      "text/plain": [
       "<matplotlib.axes._subplots.AxesSubplot at 0x1cb8a4ab708>"
      ]
     },
     "execution_count": 18,
     "metadata": {},
     "output_type": "execute_result"
    },
    {
     "data": {
      "image/png": "[encoded data removed]",
      "text/plain": [
       "<Figure size 432x288 with 1 Axes>"
      ]
     },
     "metadata": {
      "needs_background": "light"
     },
     "output_type": "display_data"
    }
   ],
   "source": [
    "# for charges_1\n",
    "sns.distplot(train['charges_1'])"
   ]
  },
  {
   "cell_type": "code",
   "execution_count": 19,
   "metadata": {},
   "outputs": [],
   "source": [
    "train['charges_1']=train['charges_1'].fillna(train['charges_1'].median())\n",
    "train['charges_2 (%)']=train['charges_2 (%)'].fillna(train['charges_2 (%)'].median())\n",
    "train['Minimum_price']=train['Minimum_price'].fillna(train['Minimum_price'].median())\n",
    "\n",
    "test['charges_1']=test['charges_1'].fillna(test['charges_1'].median())\n",
    "test['charges_2 (%)']=test['charges_2 (%)'].fillna(test['charges_2 (%)'].median())\n",
    "test['Minimum_price']=test['Minimum_price'].fillna(test['Minimum_price'].median())\n",
    "\n",
    "train['Maximum_price']=train['Maximum_price'].fillna(train['Maximum_price'].median())\n",
    "train['Selling_Price']=train['Selling_Price'].fillna(train['Selling_Price'].median())"
   ]
  },
  {
   "cell_type": "code",
   "execution_count": 20,
   "metadata": {},
   "outputs": [],
   "source": [
    "train['instock_month']=pd.to_datetime(train['instock_date']).dt.month\n",
    "train['instock_day']=pd.to_datetime(train['instock_date']).dt.weekday\n",
    "train['instock_monthdate']=pd.to_datetime(train['instock_date']).dt.day\n",
    "train['instock_year']=pd.to_datetime(train['instock_date']).dt.year\n",
    "test['instock_month']=pd.to_datetime(test['instock_date']).dt.month\n",
    "test['instock_day']=pd.to_datetime(test['instock_date']).dt.weekday\n",
    "test['instock_monthdate']=pd.to_datetime(test['instock_date']).dt.day\n",
    "test['instock_year']=pd.to_datetime(test['instock_date']).dt.year"
   ]
  },
  {
   "cell_type": "code",
   "execution_count": 22,
   "metadata": {},
   "outputs": [],
   "source": [
    "product=train[['Product_Category']]\n",
    "product=pd.get_dummies(product,drop_first=True)\n",
    "\n",
    "\n",
    "product_test=test[['Product_Category']]\n",
    "product_test=pd.get_dummies(product_test,drop_first=True)\n",
    "\n",
    "train=pd.concat([train,product],axis=1)\n",
    "test=pd.concat([test,product_test],axis=1)\n",
    "\n"
   ]
  },
  {
   "cell_type": "code",
   "execution_count": 23,
   "metadata": {},
   "outputs": [],
   "source": [
    "train.drop(['instock_date','Product_Category'],axis=1,inplace=True)\n",
    "test.drop(['instock_date','Product_Category'],axis=1,inplace=True)"
   ]
  },
  {
   "cell_type": "code",
   "execution_count": 24,
   "metadata": {},
   "outputs": [
    {
     "data": {
      "text/plain": [
       "Stall_no                        0\n",
       "Market_Category                 0\n",
       "Loyalty_customer                0\n",
       "Grade                           0\n",
       "Demand                          0\n",
       "Discount_avail                  0\n",
       "charges_1                       0\n",
       "charges_2 (%)                   0\n",
       "Minimum_price                   0\n",
       "Maximum_price                   0\n",
       "Selling_Price                   0\n",
       "instock_month                   0\n",
       "instock_day                     0\n",
       "instock_monthdate               0\n",
       "instock_year                    0\n",
       "Product_Category_Cosmetics      0\n",
       "Product_Category_Educational    0\n",
       "Product_Category_Fashion        0\n",
       "Product_Category_Home_decor     0\n",
       "Product_Category_Hospitality    0\n",
       "Product_Category_Organic        0\n",
       "Product_Category_Pet_care       0\n",
       "Product_Category_Repair         0\n",
       "Product_Category_Technology     0\n",
       "dtype: int64"
      ]
     },
     "execution_count": 24,
     "metadata": {},
     "output_type": "execute_result"
    }
   ],
   "source": [
    "train.isnull().sum()"
   ]
  },
  {
   "cell_type": "code",
   "execution_count": 25,
   "metadata": {},
   "outputs": [
    {
     "data": {
      "text/plain": [
       "Stall_no                        0\n",
       "Market_Category                 0\n",
       "Loyalty_customer                0\n",
       "Grade                           0\n",
       "Demand                          0\n",
       "Discount_avail                  0\n",
       "charges_1                       0\n",
       "charges_2 (%)                   0\n",
       "Minimum_price                   0\n",
       "Maximum_price                   0\n",
       "instock_month                   0\n",
       "instock_day                     0\n",
       "instock_monthdate               0\n",
       "instock_year                    0\n",
       "Product_Category_Cosmetics      0\n",
       "Product_Category_Educational    0\n",
       "Product_Category_Fashion        0\n",
       "Product_Category_Home_decor     0\n",
       "Product_Category_Hospitality    0\n",
       "Product_Category_Organic        0\n",
       "Product_Category_Pet_care       0\n",
       "Product_Category_Repair         0\n",
       "Product_Category_Technology     0\n",
       "dtype: int64"
      ]
     },
     "execution_count": 25,
     "metadata": {},
     "output_type": "execute_result"
    }
   ],
   "source": [
    "test.isnull().sum()"
   ]
  },
  {
   "cell_type": "code",
   "execution_count": 28,
   "metadata": {},
   "outputs": [],
   "source": [
    "X=train[['Stall_no', 'Market_Category', 'Loyalty_customer', 'Grade', 'Demand',\n",
    "       'Discount_avail', 'charges_1', 'charges_2 (%)', 'Minimum_price',\n",
    "       'Maximum_price', 'instock_month', 'instock_day',\n",
    "       'instock_monthdate', 'instock_year', 'Product_Category_Cosmetics',\n",
    "       'Product_Category_Educational', 'Product_Category_Fashion',\n",
    "       'Product_Category_Home_decor', 'Product_Category_Hospitality',\n",
    "       'Product_Category_Organic', 'Product_Category_Pet_care',\n",
    "       'Product_Category_Repair', 'Product_Category_Technology']]\n",
    "y=train['Selling_Price']"
   ]
  },
  {
   "cell_type": "code",
   "execution_count": 29,
   "metadata": {},
   "outputs": [
    {
     "data": {
      "text/plain": [
       "((3430, 23), (6368, 24))"
      ]
     },
     "execution_count": 29,
     "metadata": {},
     "output_type": "execute_result"
    }
   ],
   "source": [
    "test.shape,train.shape\n"
   ]
  },
  {
   "cell_type": "code",
   "execution_count": 30,
   "metadata": {},
   "outputs": [],
   "source": [
    "from sklearn.model_selection import train_test_split\n",
    "X_train,X_test,y_train,y_test=train_test_split(X,y,test_size=0.1,random_state=10)"
   ]
  },
  {
   "cell_type": "code",
   "execution_count": 31,
   "metadata": {},
   "outputs": [
    {
     "name": "stderr",
     "output_type": "stream",
     "text": [
      "[Parallel(n_jobs=1)]: Using backend SequentialBackend with 1 concurrent workers.\n",
      "[Parallel(n_jobs=1)]: Done 100 out of 100 | elapsed:    8.9s finished\n"
     ]
    },
    {
     "data": {
      "text/plain": [
       "RandomForestRegressor(bootstrap=True, ccp_alpha=0.0, criterion='mse',\n",
       "                      max_depth=15, max_features='auto', max_leaf_nodes=None,\n",
       "                      max_samples=None, min_impurity_decrease=0.0,\n",
       "                      min_impurity_split=None, min_samples_leaf=1,\n",
       "                      min_samples_split=2, min_weight_fraction_leaf=0.0,\n",
       "                      n_estimators=100, n_jobs=None, oob_score=False,\n",
       "                      random_state=0, verbose=1, warm_start=False)"
      ]
     },
     "execution_count": 31,
     "metadata": {},
     "output_type": "execute_result"
    }
   ],
   "source": [
    "from sklearn.ensemble import RandomForestRegressor\n",
    "reg = RandomForestRegressor(max_depth = 15, random_state=0,n_estimators = 100,verbose = 1)\n",
    "reg.fit(X_train,y_train)"
   ]
  },
  {
   "cell_type": "code",
   "execution_count": 32,
   "metadata": {},
   "outputs": [
    {
     "name": "stderr",
     "output_type": "stream",
     "text": [
      "[Parallel(n_jobs=1)]: Using backend SequentialBackend with 1 concurrent workers.\n",
      "[Parallel(n_jobs=1)]: Done 100 out of 100 | elapsed:    0.2s finished\n"
     ]
    },
    {
     "data": {
      "text/plain": [
       "0.9934387482248213"
      ]
     },
     "execution_count": 32,
     "metadata": {},
     "output_type": "execute_result"
    }
   ],
   "source": [
    "reg.score(X_train,y_train)"
   ]
  },
  {
   "cell_type": "code",
   "execution_count": 33,
   "metadata": {},
   "outputs": [
    {
     "name": "stderr",
     "output_type": "stream",
     "text": [
      "[Parallel(n_jobs=1)]: Using backend SequentialBackend with 1 concurrent workers.\n",
      "[Parallel(n_jobs=1)]: Done 100 out of 100 | elapsed:    0.0s finished\n"
     ]
    }
   ],
   "source": [
    "y_pred=reg.predict(X_test)"
   ]
  },
  {
   "cell_type": "code",
   "execution_count": 34,
   "metadata": {},
   "outputs": [
    {
     "data": {
      "text/plain": [
       "array([ 3924.5312987 ,  5715.98427939,  4457.85295084,   714.5363886 ,\n",
       "        4685.30668305,   692.69142917,  5599.3053453 ,   823.74046693,\n",
       "        7060.17660802,  2527.79723051,   765.25220025,  6954.45388553,\n",
       "        2173.41979182,  3764.73027058,  1106.05982375,  2795.6582695 ,\n",
       "        5409.91885035,  1797.07979272,  3935.03832421,  3907.86483588,\n",
       "        4832.67979379,  3522.96896192,  4011.82072549,  2957.14439251,\n",
       "        9023.84496164,  9057.44518578,  5352.0901559 ,  6241.8236816 ,\n",
       "        4254.19078118,   466.68633665,  4631.42401249, 11495.38411769,\n",
       "         287.81628874,  6786.53279005,   462.48851939,  9914.25514307,\n",
       "         673.77709657,  3320.38017936,  3359.17313985,  4417.34887309,\n",
       "         845.7408091 ,  3492.36326403,  9837.07695065,  5073.80120434,\n",
       "        2295.64312261,  6721.60794367,  2381.13956131,  4606.55680983,\n",
       "        2890.75946597,  1745.23818393,  2741.74087712,   608.94066792,\n",
       "        4530.3462937 ,  4430.45982174,  2224.2265364 ,  3953.05095801,\n",
       "        4435.92595005,  3358.47525429,  4543.07530676,   385.74421291,\n",
       "        3712.51660719,  5343.46684615,  5467.9819163 ,  5040.53208308,\n",
       "        5402.97079653,  5415.52506641,  1169.29332301,  6882.96398873,\n",
       "         965.15731807,  3923.03039663,  4639.70967921,  6045.12069176,\n",
       "        2333.25191935,  1217.5289259 ,  8127.5002412 ,  1212.81346647,\n",
       "         617.52671695,  3259.68749274,  1249.50347968,  6575.55886207,\n",
       "        2499.21824604,  3953.08362751,  1010.96070317,  3323.80000686,\n",
       "        5986.21101206, 11387.02784341,  4390.22923419,  4085.13959205,\n",
       "        3313.63558157,  3940.92475962,   680.56412942,  3215.82229607,\n",
       "        5195.63863487,  2227.28977804,  8926.52549747,   505.03458974,\n",
       "        2390.41694489,  3709.3182145 ,   989.75460438,  1999.69879378,\n",
       "        4983.79774369,  1971.59772661,  5182.5711239 ,  3378.84278629,\n",
       "       15080.27120397,  9053.97936295, 11990.6900284 ,  5111.43998062,\n",
       "         736.40588011,  1883.39254303,  4756.93733811,  5810.63837213,\n",
       "        5606.78796916,   938.675104  ,  5734.88174818,  4411.43490254,\n",
       "         703.83228701,  4428.88981715,  3998.82297919,  6290.5381025 ,\n",
       "        8051.64183617,  1044.20749014,  2186.63069659,  5517.93099817,\n",
       "        6105.63366864,  3853.92829012,  7086.32375478,  4230.69136739,\n",
       "        4630.76620625,  1338.66224469,  1691.92102086,  2607.74641323,\n",
       "        5334.72403978,  8923.60605756, 18023.31842737,  9908.76718753,\n",
       "         617.09653742,  3225.72633608,  8896.43354077,   618.2886786 ,\n",
       "         534.08484037,  3673.13126001,  2879.55949059,   612.9644062 ,\n",
       "        3503.89676898,  6126.37656535,  1288.71006873,  3302.90038182,\n",
       "        4201.04792902,  2786.69694797,  2548.61897725,  3930.04113434,\n",
       "        3865.34183836,  1505.51008198,  4193.51674433,  4605.51718721,\n",
       "        5496.80227801,  2839.45105174,  1696.99908827,  3587.30273934,\n",
       "         612.56787519,  8396.06319628,  1747.10901405,  4980.30310256,\n",
       "        1836.3155241 ,  3461.58677887,  4762.30241331,  6634.9855966 ,\n",
       "        2183.4909726 ,  2582.72164614, 12418.8896276 ,  4878.22700752,\n",
       "        7005.14926236,  6325.04999858,  6185.21364381,   625.40505241,\n",
       "        3089.05662046, 11620.14638849,  3399.20539311,  8089.22844761,\n",
       "        5862.33649443,   742.35085102,  4641.93740889,  2454.08645346,\n",
       "        4913.59766702,  8246.43293775,   589.40661772,  3132.78141553,\n",
       "        4743.09129483,  4805.6424557 ,  8994.49924497,  5564.85689383,\n",
       "        4724.18664684,  1276.47064251,   512.32549551,  1005.81277557,\n",
       "        1685.54810629,  9057.78888666, 12606.2440151 ,  8413.31661349,\n",
       "        4535.81248567,  4795.13766072,  3437.70600894,  5206.77039467,\n",
       "       11734.18757913,   816.21187994,   847.52725242,  3155.78629079,\n",
       "       10230.23271856,  5904.3275847 ,  4770.59104754,  1033.60416661,\n",
       "        8509.42012917,  3061.08032013,  5516.80699451,  1160.15314836,\n",
       "        4642.06273298,  2717.70340646,  4054.8236269 ,  4485.58630593,\n",
       "         467.99931781,   990.21000642,  6956.61552825,  5863.00311057,\n",
       "        4032.04625403,  3994.38997195,  3762.94743181,  2874.99234633,\n",
       "        3078.62689098,  2673.21992228,  2816.0495592 ,  3810.43504493,\n",
       "        2521.85252693,  5137.34895733,  5572.06329789,  8074.8157883 ,\n",
       "        4303.21887016,  2069.72980435,   518.67597618,   867.2702429 ,\n",
       "        4517.1613281 ,  1386.15236421,  3619.85788694,  1105.859712  ,\n",
       "        6629.3243051 ,  4131.92088797,  3681.78123239,  5401.77001649,\n",
       "        6787.1799899 ,  7016.89171654,   172.35106253,  4300.75094822,\n",
       "        9289.40776095,  4227.38072923,  2232.1576173 ,  3142.142817  ,\n",
       "        4781.27641399,  3931.52811845,  3910.53615041,  3545.36865283,\n",
       "        3500.37169888,  4038.66766474,  6019.20307809,  1356.08752575,\n",
       "        3965.1587327 ,   751.1127522 ,  1190.46058402, 14521.08249421,\n",
       "        7545.32972778,  3925.84540682,  6693.63774991,  4216.92124617,\n",
       "        3070.00983469, 13065.25695768,   695.25325981,  4988.16883778,\n",
       "        2545.8509937 ,   548.39158309, 10951.59681935,  2264.21257263,\n",
       "        2240.01740937,  2902.44920635,  1976.35109412,  5690.18276938,\n",
       "        5061.35722529,  7346.14193888, 10671.7033262 ,  5500.58909792,\n",
       "        5128.89249417,  7210.28448589,   860.96958282,  2357.285192  ,\n",
       "        1163.07765176,  6305.60664388,  1899.60221228,  2239.25757146,\n",
       "        2833.03753882,  7874.58551155,  2388.89003445,  7224.82254722,\n",
       "        3017.51889948,  3087.23271102,  5802.96717392,  5496.887976  ,\n",
       "        2707.87904114,  6384.29201906,  8115.89594108,  3713.87202062,\n",
       "        3521.27357212,  7125.4169443 ,  5373.92581458,  4824.95318468,\n",
       "        5619.82301242,  4482.37883724,  5178.69218875,  3398.77378294,\n",
       "        5438.38580833,   739.95966994,  1266.6155182 ,  8785.21132853,\n",
       "        2746.04288006,  2754.89481288,   753.80715681,  3582.44457799,\n",
       "         845.45720106, 12560.90922961,  6355.33312176,  6022.31930911,\n",
       "        3523.15855262, 10046.47840317,  5109.98013107,  4598.65308884,\n",
       "        8241.16508332,  5468.00898877,  3497.57276413,  2778.59515999,\n",
       "        8170.66301762, 10471.8149144 ,  7030.49744735,  4067.28017358,\n",
       "        3635.42392048,  3706.47390371,   621.12949999,  5345.90169133,\n",
       "        3875.57367279,  3681.87308423,  4557.44017046,  5567.15713251,\n",
       "       10399.95834024,  4473.5172182 ,  5556.37551808,  1759.17201947,\n",
       "        3232.12887488,  2606.4777585 ,  6858.60272165,   393.0353171 ,\n",
       "        6359.64301615,  7350.36087697,  1072.11151936,  3523.92955098,\n",
       "        6697.40638567,  7880.36009786,  3952.0094072 ,  5740.35303931,\n",
       "        2555.69215739,  5345.40093069,  4074.11179477,  7303.51073959,\n",
       "         690.1393707 ,  6031.35929393,  5000.20529967,  7597.12570428,\n",
       "         684.36676068,  6989.96347208,  4949.19912073,  5500.32597739,\n",
       "        5811.64520867,  4049.21832678,  1753.11022265, 10483.96719855,\n",
       "        6639.03020221,  3508.55054878,  3949.99610578, 10337.70770012,\n",
       "        4564.22886029,  4699.87730231,  2958.3274991 ,   829.390389  ,\n",
       "        3564.70994519,  6196.38732093,  3147.38439005, 14673.58147039,\n",
       "        4604.79110955,  7051.39146429,  1305.58517488,   689.15041696,\n",
       "        1070.29771735,  4657.15715552,   819.42864379,  2253.67359426,\n",
       "        3507.03369092,  9607.57836549,  2549.22752713,  4043.07029218,\n",
       "        3983.70949877,  6430.81435348,  9861.86882841,   389.31870193,\n",
       "        9975.49416322, 11774.10148983,   269.87177367,  3404.24562748,\n",
       "        6274.30800381,  6779.61940189,  2514.10199413,  5373.08483051,\n",
       "        2772.70960826,  2407.79077761,   571.90847206,  4110.9878429 ,\n",
       "       10384.59400503,  8115.88752951,  8289.88756048,  4892.23735054,\n",
       "        7367.55901438,  3274.59469934,  1431.47555085,  4603.67377587,\n",
       "        3424.06487983,  8265.65408394,  1718.51366818,   467.67101939,\n",
       "        3160.04898029,  3067.39036848,  2921.07732851,  3635.2627961 ,\n",
       "        6411.83255145,  3711.99680999,  3652.63468292,  3904.89804714,\n",
       "        5762.42673621,  9107.15517264,  4063.76768785,  1291.13845408,\n",
       "        7734.65465599,  2386.27758234,  5283.93095408,  1957.80331495,\n",
       "        4280.65648665, 10103.02679867,  6658.56456794,  3397.97322487,\n",
       "        3975.58173398,  3029.31516266,  2591.28208383, 13007.06522836,\n",
       "        8125.97427655,   693.4769102 ,  2263.04562403,  1552.49678492,\n",
       "        8627.51234131,  2507.47221708,  8512.53450588,  9493.86004591,\n",
       "       10158.79921355,  2040.57330849,  3124.3043949 ,  1272.25161571,\n",
       "        2475.44441633,  3161.14979023,  4569.62641565, 11270.708437  ,\n",
       "        5081.25604724,  1462.46460821,  5538.35276549,  1634.64592907,\n",
       "        1311.21249124,  7101.28393397,  1421.180163  ,   591.47432488,\n",
       "         918.06736227,  3108.11498001,  9237.2460414 ,   469.6803763 ,\n",
       "         515.33474706,  9680.79588549,  3414.23111312,  1293.28455051,\n",
       "         786.82498848,  2650.4679208 , 10688.08602347,   971.56869027,\n",
       "        5722.08210455,  3306.85436156,  6526.15881907,  2480.00770107,\n",
       "        2301.59973999,  4563.29424904,  2713.45083526,  2845.71275874,\n",
       "        4925.76963908,  9170.98435785,  3864.78580162,  4119.27432124,\n",
       "        2158.23289269,  3233.17560023,  7829.80091297,   159.68928931,\n",
       "         559.21997994,  6060.06471896,  1310.65058052,  7246.83746857,\n",
       "        4336.06986706,  1522.66037539,  4697.49010054,  3626.27875507,\n",
       "        3219.22217933,  1812.77398542,  3878.86051405,  7342.84047436,\n",
       "        5543.06515576,  4893.37143107, 11360.88261195,  5193.31429966,\n",
       "        4161.06401795,  1861.85441108,  9530.15302609,   491.00195667,\n",
       "        4366.57091263,   764.63859794,  2280.46683511,  4403.13079697,\n",
       "        1174.05497479,  8934.70584694,  3338.12840719,  6006.75420067,\n",
       "        4715.83142708,  7138.44997273,  6940.51062998,  2810.23934739,\n",
       "         544.62918591, 18509.54010751,  5665.16577289,  3779.70972934,\n",
       "        6163.82808289,  9341.58180968,  2021.47346196,  3694.52408151,\n",
       "       11435.76896614,  4264.67761476, 10220.5887168 ,  1881.0277724 ,\n",
       "        4400.29204094,  1030.54936325,  4276.33684862,  8241.2370126 ,\n",
       "        5086.88153308,  3869.63534769,  2643.20420113,  5919.6100189 ,\n",
       "        3581.68787883,  2583.69810014,  5206.02080145,   979.6216723 ,\n",
       "        3267.4217917 ,  3490.10176885,  9279.38151865,  3406.98002997,\n",
       "        8103.50241444, 13535.96667506,  4518.62825805,  1052.79286815,\n",
       "         622.77263597,  2807.20859506,  3976.51574979,  3949.95518571,\n",
       "        1055.85542788,  3677.67385895,  2950.19981902,  3346.8895053 ,\n",
       "        5772.23423688,  2082.51567164,  3236.64895779,  5852.52630174,\n",
       "        4415.52317204,   957.05851473,  2769.8175875 ,  4075.1784994 ,\n",
       "        4159.27322953,  5679.91082951,  3126.24346232,  3489.86040199,\n",
       "        3998.35225585,   721.6397187 ,  1034.32670986,  7890.30095641,\n",
       "       10162.5592297 ,  3118.73954176,  1180.51428976,  2047.40500453,\n",
       "        5537.13112691,  4640.07453771,  4274.59541627,  5184.17520367,\n",
       "        4023.08686537,   523.82612331,  4088.5560417 ,  5370.94743531,\n",
       "        1394.47315054,  1892.39558908,  6169.69754474,  4850.29704682,\n",
       "         789.47327412,  4327.46432115,  3901.24135926,  1660.73470954,\n",
       "         486.71897871,  4377.19718739, 11050.06899845,   442.94727796,\n",
       "        2736.54286518,  2351.27882201,  2085.34717766,  9504.40170653,\n",
       "        5567.38521329,  2871.36722921,   718.28867079,  2066.07133442,\n",
       "        5054.0214226 ,  2388.88555499,  1410.8513759 ,   862.42610284,\n",
       "        7306.85825959,  5361.17468268,   591.17071055,  5603.1844029 ,\n",
       "         400.42165337])"
      ]
     },
     "execution_count": 34,
     "metadata": {},
     "output_type": "execute_result"
    }
   ],
   "source": [
    "y_pred"
   ]
  },
  {
   "cell_type": "code",
   "execution_count": 35,
   "metadata": {},
   "outputs": [],
   "source": [
    "from sklearn.metrics import r2_score\n",
    "rsquare=r2_score(y_test,y_pred)"
   ]
  },
  {
   "cell_type": "code",
   "execution_count": 36,
   "metadata": {},
   "outputs": [
    {
     "data": {
      "text/plain": [
       "0.9828045908878287"
      ]
     },
     "execution_count": 36,
     "metadata": {},
     "output_type": "execute_result"
    }
   ],
   "source": [
    "rsquare"
   ]
  },
  {
   "cell_type": "code",
   "execution_count": 37,
   "metadata": {},
   "outputs": [
    {
     "name": "stdout",
     "output_type": "stream",
     "text": [
      "RMSE :  390.292662\n"
     ]
    }
   ],
   "source": [
    "from sklearn.metrics import mean_squared_error as MSE\n",
    "import numpy as np\n",
    " \n",
    "rmse = np.sqrt(MSE(y_test,y_pred)) \n",
    "print(\"RMSE : % f\" %(rmse)) "
   ]
  },
  {
   "cell_type": "code",
   "execution_count": 38,
   "metadata": {},
   "outputs": [
    {
     "name": "stderr",
     "output_type": "stream",
     "text": [
      "[Parallel(n_jobs=1)]: Using backend SequentialBackend with 1 concurrent workers.\n",
      "[Parallel(n_jobs=1)]: Done 100 out of 100 | elapsed:    0.1s finished\n"
     ]
    }
   ],
   "source": [
    "predictions=reg.predict(test)"
   ]
  },
  {
   "cell_type": "code",
   "execution_count": 39,
   "metadata": {},
   "outputs": [
    {
     "data": {
      "text/plain": [
       "array([ 3220.37394613,  1972.67159675, 11645.36430439, ...,\n",
       "        6576.86255434,  3693.77561724,  1142.73554184])"
      ]
     },
     "execution_count": 39,
     "metadata": {},
     "output_type": "execute_result"
    }
   ],
   "source": [
    "predictions"
   ]
  },
  {
   "cell_type": "code",
   "execution_count": 40,
   "metadata": {},
   "outputs": [],
   "source": [
    "data=pd.read_csv('test.csv')\n",
    "predictions_test=data['Product_id']"
   ]
  },
  {
   "cell_type": "code",
   "execution_count": 42,
   "metadata": {},
   "outputs": [
    {
     "name": "stderr",
     "output_type": "stream",
     "text": [
      "[Parallel(n_jobs=1)]: Using backend SequentialBackend with 1 concurrent workers.\n",
      "[Parallel(n_jobs=1)]: Done 100 out of 100 | elapsed:    0.1s finished\n"
     ]
    },
    {
     "data": {
      "text/html": [
       "<div>\n",
       "<style scoped>\n",
       "    .dataframe tbody tr th:only-of-type {\n",
       "        vertical-align: middle;\n",
       "    }\n",
       "\n",
       "    .dataframe tbody tr th {\n",
       "        vertical-align: top;\n",
       "    }\n",
       "\n",
       "    .dataframe thead th {\n",
       "        text-align: right;\n",
       "    }\n",
       "</style>\n",
       "<table border=\"1\" class=\"dataframe\">\n",
       "  <thead>\n",
       "    <tr style=\"text-align: right;\">\n",
       "      <th></th>\n",
       "      <th>Product_id</th>\n",
       "      <th>Selling_Price</th>\n",
       "    </tr>\n",
       "  </thead>\n",
       "  <tbody>\n",
       "    <tr>\n",
       "      <th>0</th>\n",
       "      <td>SCHE4YSTDVPVZVXW</td>\n",
       "      <td>3220.373946</td>\n",
       "    </tr>\n",
       "    <tr>\n",
       "      <th>1</th>\n",
       "      <td>ACCEGCATKHNRXUHW</td>\n",
       "      <td>1972.671597</td>\n",
       "    </tr>\n",
       "    <tr>\n",
       "      <th>2</th>\n",
       "      <td>NKCE6GJ5XVJDXNNZ</td>\n",
       "      <td>11645.364304</td>\n",
       "    </tr>\n",
       "    <tr>\n",
       "      <th>3</th>\n",
       "      <td>NKCEB8BK3ZXDHDHM</td>\n",
       "      <td>9345.864250</td>\n",
       "    </tr>\n",
       "    <tr>\n",
       "      <th>4</th>\n",
       "      <td>TOPEFDXSAHRNPF94</td>\n",
       "      <td>5610.774601</td>\n",
       "    </tr>\n",
       "  </tbody>\n",
       "</table>\n",
       "</div>"
      ],
      "text/plain": [
       "         Product_id  Selling_Price\n",
       "0  SCHE4YSTDVPVZVXW    3220.373946\n",
       "1  ACCEGCATKHNRXUHW    1972.671597\n",
       "2  NKCE6GJ5XVJDXNNZ   11645.364304\n",
       "3  NKCEB8BK3ZXDHDHM    9345.864250\n",
       "4  TOPEFDXSAHRNPF94    5610.774601"
      ]
     },
     "execution_count": 42,
     "metadata": {},
     "output_type": "execute_result"
    }
   ],
   "source": [
    "test_sales_bsm = reg.predict(test)\n",
    "test_sales_bsm\n",
    "\n",
    "final_df = pd.DataFrame()\n",
    "final_df[\"Product_id\"] = predictions_test\n",
    "final_df[\"Selling_Price\"] = test_sales_bsm\n",
    "final_df.Selling_Price = np.where(final_df.Selling_Price < 0, 0,final_df.Selling_Price)\n",
    "final_df.to_csv(\"Output_3.csv\")\n",
    "final_df.head()"
   ]
  },
  {
   "cell_type": "code",
   "execution_count": null,
   "metadata": {},
   "outputs": [],
   "source": []
  }
 ],
 "metadata": {
  "kernelspec": {
   "display_name": "Python 3",
   "language": "python",
   "name": "python3"
  },
  "language_info": {
   "codemirror_mode": {
    "name": "ipython",
    "version": 3
   },
   "file_extension": ".py",
   "mimetype": "text/x-python",
   "name": "python",
   "nbconvert_exporter": "python",
   "pygments_lexer": "ipython3",
   "version": "3.7.6"
  }
 },
 "nbformat": 4,
 "nbformat_minor": 4
}
